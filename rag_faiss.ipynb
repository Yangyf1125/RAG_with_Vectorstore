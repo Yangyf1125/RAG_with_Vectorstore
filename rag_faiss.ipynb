{
 "cells": [
  {
   "cell_type": "markdown",
   "metadata": {},
   "source": [
    "# 1. Load packge and env"
   ]
  },
  {
   "cell_type": "code",
   "execution_count": 1,
   "metadata": {},
   "outputs": [
    {
     "data": {
      "text/plain": [
       "True"
      ]
     },
     "execution_count": 1,
     "metadata": {},
     "output_type": "execute_result"
    }
   ],
   "source": [
    "import os\n",
    "from dotenv import load_dotenv\n",
    "\n",
    "from langchain_community.document_loaders import PyPDFLoader\n",
    "from langchain_text_splitters import CharacterTextSplitter\n",
    "from langchain_openai import OpenAIEmbeddings, ChatOpenAI\n",
    "from langchain_huggingface import HuggingFaceEmbeddings\n",
    "from langchain_community.vectorstores import FAISS\n",
    "from langchain.chains.retrieval import create_retrieval_chain\n",
    "from langchain.chains.combine_documents import create_stuff_documents_chain\n",
    "from langchain import hub\n",
    "\n",
    "# Load environment variables from .env file\n",
    "load_dotenv()"
   ]
  },
  {
   "cell_type": "markdown",
   "metadata": {},
   "source": [
    "# 2. Load document"
   ]
  },
  {
   "cell_type": "code",
   "execution_count": 2,
   "metadata": {},
   "outputs": [],
   "source": [
    "pdf_path = \"./retrieval-augmented_generation.pdf\"\n",
    "loader = PyPDFLoader(file_path=pdf_path)\n",
    "documents = loader.load()\n",
    "\n",
    "text_splitter = CharacterTextSplitter(chunk_size=1000, chunk_overlap=30, separator=\"\\n\")\n",
    "split_documents = text_splitter.split_documents(documents)"
   ]
  },
  {
   "cell_type": "markdown",
   "metadata": {},
   "source": [
    "# 3. load embedding model and create Faiss databese"
   ]
  },
  {
   "cell_type": "code",
   "execution_count": 3,
   "metadata": {},
   "outputs": [
    {
     "name": "stderr",
     "output_type": "stream",
     "text": [
      "c:\\anaconda\\envs\\open_manus\\Lib\\site-packages\\tqdm\\auto.py:21: TqdmWarning: IProgress not found. Please update jupyter and ipywidgets. See https://ipywidgets.readthedocs.io/en/stable/user_install.html\n",
      "  from .autonotebook import tqdm as notebook_tqdm\n"
     ]
    }
   ],
   "source": [
    "#embeddings = OpenAIEmbeddings()\n",
    "embeddings = HuggingFaceEmbeddings(model=\"BAAI/bge-small-en-v1.5\")\n",
    "vectorstore = FAISS.from_documents(split_documents, embeddings)\n",
    "\n",
    "# Save the vector store\n",
    "vectorstore.save_local(\"faiss_index\")\n",
    "\n"
   ]
  },
  {
   "cell_type": "markdown",
   "metadata": {},
   "source": [
    "# 4.Load local database"
   ]
  },
  {
   "cell_type": "code",
   "execution_count": 4,
   "metadata": {},
   "outputs": [],
   "source": [
    "# Load the vector store\n",
    "new_vectorstore = FAISS.load_local(\n",
    "       \"faiss_index\", embeddings, allow_dangerous_deserialization=True\n",
    "   )"
   ]
  },
  {
   "cell_type": "markdown",
   "metadata": {},
   "source": [
    "# 5.deploy LLM with api and create retrieval question with prompt template"
   ]
  },
  {
   "cell_type": "code",
   "execution_count": null,
   "metadata": {},
   "outputs": [
    {
     "name": "stderr",
     "output_type": "stream",
     "text": [
      "c:\\anaconda\\envs\\open_manus\\Lib\\site-packages\\langsmith\\client.py:272: LangSmithMissingAPIKeyWarning: API key must be provided when using hosted LangSmith API\n",
      "  warnings.warn(\n"
     ]
    }
   ],
   "source": [
    "from langchain.prompts import PromptTemplate\n",
    "#load model\n",
    "api_key = os.getenv(\"DEEPSEEK_API_KEY\")\n",
    "model=ChatOpenAI(model=\"deepseek-chat\",api_key=api_key,base_url=\"https://api.deepseek.com\")\n",
    "\n",
    "# Load the prompt from the hub\n",
    "retrieval_qa_chat_prompt = hub.pull(\"langchain-ai/retrieval-qa-chat\")\n",
    "\n",
    "# 定义 PromptTemplate\n",
    "retrieval_qa_chat_prompt = PromptTemplate(\n",
    "    input_variables=[\"context\", \"input\"],\n",
    "    template=\"\"\"\n",
    "You are an expert assistant. Use the following documents to answer the user's question.\n",
    "Documents: {context}\n",
    "Question: {input}\n",
    "Answer:\n",
    "\"\"\"\n",
    ")\n",
    "\n",
    "combine_docs_chain = create_stuff_documents_chain(\n",
    "       model, retrieval_qa_chat_prompt\n",
    "   )\n",
    "\n",
    "retrieval_chain = create_retrieval_chain(\n",
    "       new_vectorstore.as_retriever(), combine_docs_chain\n",
    "   )"
   ]
  },
  {
   "cell_type": "code",
   "execution_count": 23,
   "metadata": {},
   "outputs": [
    {
     "name": "stdout",
     "output_type": "stream",
     "text": [
      "\n",
      "You are an expert assistant. Use the following documents to answer the user's question.\n",
      "Documents: \u001b[33;1m\u001b[1;3m{context}\u001b[0m\n",
      "Question: \u001b[33;1m\u001b[1;3m{input}\u001b[0m\n",
      "Answer:\n",
      "\n"
     ]
    }
   ],
   "source": [
    "retrieval_qa_chat_prompt.pretty_print()"
   ]
  },
  {
   "cell_type": "markdown",
   "metadata": {},
   "source": [
    "# 6.Search content"
   ]
  },
  {
   "cell_type": "code",
   "execution_count": null,
   "metadata": {},
   "outputs": [
    {
     "name": "stdout",
     "output_type": "stream",
     "text": [
      "('**Retrieval-Augmented Generation (RAG) combines parametric memory '\n",
      " '(pre-trained seq2seq models) with non-parametric memory (e.g., a Wikipedia '\n",
      " 'vector index) to enhance language generation. It retrieves relevant '\n",
      " 'documents during inference, improving factual accuracy and specificity '\n",
      " 'compared to purely parametric models like BART, and allows dynamic updates '\n",
      " 'by swapping the retrieval index without retraining. RAG achieves '\n",
      " 'state-of-the-art results on open-domain QA and other knowledge-intensive '\n",
      " 'tasks by marginalizing over retrieved passages in two variants: RAG-Sequence '\n",
      " '(single document per output) and RAG-Token (multiple documents per '\n",
      " 'token).**  \\n'\n",
      " '\\n'\n",
      " '**检索增强生成（RAG）结合了参数化记忆（预训练的seq2seq模型）与非参数化记忆（如维基百科向量索引）以提升语言生成能力。它在推理时检索相关文档，相比纯参数化模型（如BART）提高了事实准确性和细节丰富度，并支持通过替换检索索引动态更新模型而无需重新训练。RAG通过两种变体（RAG-Sequence单文档输出和RAG-Token多文档分token）对检索内容进行边缘化处理，在开放域QA等知识密集型任务中达到领先水平。**')\n"
     ]
    }
   ],
   "source": [
    "import pprint\n",
    "res = retrieval_chain.invoke({\"input\": \"Give me the gist of Retrieval-Augmented Generation (RAG) in 3 sentences,and translate it to Chinese.\"})\n",
    "pprint.pprint(res[\"answer\"])"
   ]
  },
  {
   "cell_type": "code",
   "execution_count": null,
   "metadata": {},
   "outputs": [],
   "source": []
  },
  {
   "cell_type": "code",
   "execution_count": null,
   "metadata": {},
   "outputs": [],
   "source": []
  }
 ],
 "metadata": {
  "kernelspec": {
   "display_name": "open_manus",
   "language": "python",
   "name": "open_manus"
  },
  "language_info": {
   "codemirror_mode": {
    "name": "ipython",
    "version": 3
   },
   "file_extension": ".py",
   "mimetype": "text/x-python",
   "name": "python",
   "nbconvert_exporter": "python",
   "pygments_lexer": "ipython3",
   "version": "3.12.9"
  }
 },
 "nbformat": 4,
 "nbformat_minor": 2
}
