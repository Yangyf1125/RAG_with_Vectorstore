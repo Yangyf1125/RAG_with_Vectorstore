{
 "cells": [
  {
   "cell_type": "markdown",
   "metadata": {},
   "source": [
    "# 1. Load packge and env"
   ]
  },
  {
   "cell_type": "code",
   "execution_count": 1,
   "metadata": {},
   "outputs": [
    {
     "data": {
      "text/plain": [
       "True"
      ]
     },
     "execution_count": 1,
     "metadata": {},
     "output_type": "execute_result"
    }
   ],
   "source": [
    "import os\n",
    "from dotenv import load_dotenv\n",
    "\n",
    "from langchain_community.document_loaders import PyPDFLoader\n",
    "from langchain_text_splitters import CharacterTextSplitter\n",
    "from langchain_openai import OpenAIEmbeddings, ChatOpenAI\n",
    "from langchain_huggingface import HuggingFaceEmbeddings\n",
    "from langchain_community.vectorstores import FAISS\n",
    "from langchain.chains.retrieval import create_retrieval_chain\n",
    "from langchain.chains.combine_documents import create_stuff_documents_chain\n",
    "from langchain import hub\n",
    "\n",
    "# Load environment variables from .env file\n",
    "load_dotenv()"
   ]
  },
  {
   "cell_type": "markdown",
   "metadata": {},
   "source": [
    "# 2. Load document"
   ]
  },
  {
   "cell_type": "code",
   "execution_count": 2,
   "metadata": {},
   "outputs": [],
   "source": [
    "pdf_path = \"./retrieval-augmented_generation.pdf\"\n",
    "loader = PyPDFLoader(file_path=pdf_path)\n",
    "documents = loader.load()\n",
    "\n",
    "text_splitter = CharacterTextSplitter(chunk_size=1000, chunk_overlap=30, separator=\"\\n\")\n",
    "split_documents = text_splitter.split_documents(documents)"
   ]
  },
  {
   "cell_type": "markdown",
   "metadata": {},
   "source": [
    "# 3. load embedding model and create Faiss databese"
   ]
  },
  {
   "cell_type": "code",
   "execution_count": 3,
   "metadata": {},
   "outputs": [
    {
     "name": "stderr",
     "output_type": "stream",
     "text": [
      "c:\\anaconda\\envs\\open_manus\\Lib\\site-packages\\tqdm\\auto.py:21: TqdmWarning: IProgress not found. Please update jupyter and ipywidgets. See https://ipywidgets.readthedocs.io/en/stable/user_install.html\n",
      "  from .autonotebook import tqdm as notebook_tqdm\n"
     ]
    }
   ],
   "source": [
    "#embeddings = OpenAIEmbeddings()\n",
    "embeddings = HuggingFaceEmbeddings(model=\"BAAI/bge-small-en-v1.5\")\n",
    "vectorstore = FAISS.from_documents(split_documents, embeddings)\n",
    "\n",
    "# Save the vector store\n",
    "vectorstore.save_local(\"faiss_index\")\n",
    "\n"
   ]
  },
  {
   "cell_type": "markdown",
   "metadata": {},
   "source": [
    "# 4.Load local database"
   ]
  },
  {
   "cell_type": "code",
   "execution_count": 4,
   "metadata": {},
   "outputs": [],
   "source": [
    "# Load the vector store\n",
    "new_vectorstore = FAISS.load_local(\n",
    "       \"faiss_index\", embeddings, allow_dangerous_deserialization=True\n",
    "   )"
   ]
  },
  {
   "cell_type": "markdown",
   "metadata": {},
   "source": [
    "# 5.deploy LLM with api and create retrieval question with prompt template"
   ]
  },
  {
   "cell_type": "code",
   "execution_count": null,
   "metadata": {},
   "outputs": [
    {
     "name": "stderr",
     "output_type": "stream",
     "text": [
      "c:\\anaconda\\envs\\open_manus\\Lib\\site-packages\\langsmith\\client.py:272: LangSmithMissingAPIKeyWarning: API key must be provided when using hosted LangSmith API\n",
      "  warnings.warn(\n"
     ]
    }
   ],
   "source": [
    "retrieval_qa_chat_prompt = hub.pull(\"langchain-ai/retrieval-qa-chat\")\n",
    "\n",
    "\n",
    "model=ChatOpenAI(model=\"deepseek-chat\",api_key=\"<your api key>\",base_url=\"https://api.deepseek.com\")\n",
    "\n",
    "combine_docs_chain = create_stuff_documents_chain(\n",
    "       model, retrieval_qa_chat_prompt\n",
    "   )\n",
    "\n",
    "retrieval_chain = create_retrieval_chain(\n",
    "       new_vectorstore.as_retriever(), combine_docs_chain\n",
    "   )"
   ]
  },
  {
   "cell_type": "code",
   "execution_count": 6,
   "metadata": {},
   "outputs": [
    {
     "name": "stdout",
     "output_type": "stream",
     "text": [
      "================================\u001b[1m System Message \u001b[0m================================\n",
      "\n",
      "Answer any use questions based solely on the context below:\n",
      "\n",
      "<context>\n",
      "\u001b[33;1m\u001b[1;3m{context}\u001b[0m\n",
      "</context>\n",
      "\n",
      "=============================\u001b[1m Messages Placeholder \u001b[0m=============================\n",
      "\n",
      "\u001b[33;1m\u001b[1;3m{chat_history}\u001b[0m\n",
      "\n",
      "================================\u001b[1m Human Message \u001b[0m=================================\n",
      "\n",
      "\u001b[33;1m\u001b[1;3m{input}\u001b[0m\n"
     ]
    }
   ],
   "source": [
    "retrieval_qa_chat_prompt.pretty_print()"
   ]
  },
  {
   "cell_type": "markdown",
   "metadata": {},
   "source": [
    "# 6.Search content"
   ]
  },
  {
   "cell_type": "code",
   "execution_count": 8,
   "metadata": {},
   "outputs": [
    {
     "name": "stdout",
     "output_type": "stream",
     "text": [
      "('**Gist of RAG in 3 sentences:**  \\n'\n",
      " '1. RAG combines parametric memory (pre-trained seq2seq models) and '\n",
      " 'non-parametric memory (retrieval from dense vector indexes like Wikipedia) '\n",
      " 'to enhance knowledge-intensive NLP tasks.  \\n'\n",
      " '2. It outperforms purely parametric models in open-domain QA by generating '\n",
      " 'more factual and specific responses, leveraging retrieved documents '\n",
      " 'dynamically during generation.  \\n'\n",
      " '3. RAG allows \"hot-swapping\" the retrieval index without retraining, '\n",
      " \"enabling flexible updates to the model's knowledge base.  \\n\"\n",
      " '\\n'\n",
      " '**Chinese Translation:**  \\n'\n",
      " '1. '\n",
      " 'RAG（检索增强生成）结合了参数化记忆（预训练的seq2seq模型）和非参数化记忆（如维基百科的密集向量检索），以提升知识密集型NLP任务的表现。  \\n'\n",
      " '2. 在开放域问答任务中，它通过动态利用检索到的文档生成更准确、具体的回答，优于纯参数化模型。  \\n'\n",
      " '3. RAG支持无需重新训练即可“热替换”检索索引，使模型的知识库能灵活更新。')\n"
     ]
    }
   ],
   "source": [
    "import pprint\n",
    "\n",
    "res = retrieval_chain.invoke({\"input\": \"Give me the gist of Retrieval-Augmented Generation (RAG) in 3 sentences,and translate it to Chinese.\"})\n",
    "pprint.pprint(res[\"answer\"])"
   ]
  },
  {
   "cell_type": "code",
   "execution_count": null,
   "metadata": {},
   "outputs": [],
   "source": []
  },
  {
   "cell_type": "code",
   "execution_count": null,
   "metadata": {},
   "outputs": [],
   "source": []
  }
 ],
 "metadata": {
  "kernelspec": {
   "display_name": "open_manus",
   "language": "python",
   "name": "open_manus"
  },
  "language_info": {
   "codemirror_mode": {
    "name": "ipython",
    "version": 3
   },
   "file_extension": ".py",
   "mimetype": "text/x-python",
   "name": "python",
   "nbconvert_exporter": "python",
   "pygments_lexer": "ipython3",
   "version": "3.12.9"
  }
 },
 "nbformat": 4,
 "nbformat_minor": 2
}
